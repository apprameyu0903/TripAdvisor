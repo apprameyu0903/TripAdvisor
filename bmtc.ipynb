{
 "cells": [
  {
   "cell_type": "code",
   "execution_count": 7,
   "metadata": {},
   "outputs": [
    {
     "ename": "ModuleNotFoundError",
     "evalue": "No module named 'pandas'",
     "output_type": "error",
     "traceback": [
      "\u001b[0;31m---------------------------------------------------------------------------\u001b[0m",
      "\u001b[0;31mModuleNotFoundError\u001b[0m                       Traceback (most recent call last)",
      "Cell \u001b[0;32mIn[7], line 1\u001b[0m\n\u001b[0;32m----> 1\u001b[0m \u001b[38;5;28;01mimport\u001b[39;00m \u001b[38;5;21;01mpandas\u001b[39;00m \u001b[38;5;28;01mas\u001b[39;00m \u001b[38;5;21;01mpd\u001b[39;00m\n",
      "\u001b[0;31mModuleNotFoundError\u001b[0m: No module named 'pandas'"
     ]
    }
   ],
   "source": [
    "import pandas as pd"
   ]
  },
  {
   "cell_type": "code",
   "execution_count": null,
   "metadata": {},
   "outputs": [],
   "source": [
    "df = pd.read_excel(r'bmtc_dump.xlsx')"
   ]
  },
  {
   "cell_type": "code",
   "execution_count": null,
   "metadata": {},
   "outputs": [
    {
     "data": {
      "text/html": [
       "<div>\n",
       "<style scoped>\n",
       "    .dataframe tbody tr th:only-of-type {\n",
       "        vertical-align: middle;\n",
       "    }\n",
       "\n",
       "    .dataframe tbody tr th {\n",
       "        vertical-align: top;\n",
       "    }\n",
       "\n",
       "    .dataframe thead th {\n",
       "        text-align: right;\n",
       "    }\n",
       "</style>\n",
       "<table border=\"1\" class=\"dataframe\">\n",
       "  <thead>\n",
       "    <tr style=\"text-align: right;\">\n",
       "      <th></th>\n",
       "      <th>route_no</th>\n",
       "      <th>distance</th>\n",
       "      <th>origin</th>\n",
       "      <th>destination</th>\n",
       "      <th>departure_from_origin</th>\n",
       "      <th>arrival_at_origin</th>\n",
       "      <th>departure_from_destination</th>\n",
       "      <th>arrival_at_destination</th>\n",
       "      <th>map_json_content</th>\n",
       "    </tr>\n",
       "  </thead>\n",
       "  <tbody>\n",
       "    <tr>\n",
       "      <th>0</th>\n",
       "      <td>1</td>\n",
       "      <td>19.6 KM</td>\n",
       "      <td>Jayanagara 9th Block</td>\n",
       "      <td>Yeshwanathapura new railway station</td>\n",
       "      <td>07:35,  08:15,  08:55,  10:40,  11:20,  12:00,...</td>\n",
       "      <td>10:10, 10:50, 11:55, 13:15, 13:55, 14:35, 15:5...</td>\n",
       "      <td>08:55, 09:35, 10:40, 12:00, 12:40, 13:20, 14:4...</td>\n",
       "      <td>08:50,  09:30,  10:10,  11:55,  12:35,  13:15,...</td>\n",
       "      <td>[{\"busstop\": \"Jayanagara 9th Block,JAYANAGARA ...</td>\n",
       "    </tr>\n",
       "    <tr>\n",
       "      <th>1</th>\n",
       "      <td>1E</td>\n",
       "      <td>20.8 KM</td>\n",
       "      <td>JPNagara 6th Phase</td>\n",
       "      <td>Chowdeshwari Bus Stand JP Park</td>\n",
       "      <td>07:20,  10:45,  17:30,  21:00</td>\n",
       "      <td>07:15, 10:15, 17:00, 20:30</td>\n",
       "      <td>05:30, 08:50, 15:35, 19:00</td>\n",
       "      <td>08:45,  12:20,  18:55,  22:25</td>\n",
       "      <td>[{\"busstop\": \"JPNagara 6th Phase,JP NAGARA 6TH...</td>\n",
       "    </tr>\n",
       "    <tr>\n",
       "      <th>2</th>\n",
       "      <td>1F</td>\n",
       "      <td>11.5 KM</td>\n",
       "      <td>BTM Layout</td>\n",
       "      <td>Krishnarajendra Market</td>\n",
       "      <td>08:20,  10:10,  12:25,  14:15,  16:25,  18:10</td>\n",
       "      <td>10:05, 12:20, 14:10, 15:55, 18:05, 19:55</td>\n",
       "      <td>09:15, 11:30, 13:20, 15:10, 17:15, 19:05</td>\n",
       "      <td>09:10,  11:00,  13:15,  15:05,  17:10,  19:00</td>\n",
       "      <td>[{\"busstop\": \"BTM Layout,BTM Layout 2nd Stage,...</td>\n",
       "    </tr>\n",
       "    <tr>\n",
       "      <th>3</th>\n",
       "      <td>CCC-1</td>\n",
       "      <td>15.4 KM</td>\n",
       "      <td>City Civil Court</td>\n",
       "      <td>City Civil Court</td>\n",
       "      <td>09:05,  10:05,  11:05,  12:30,  13:30,  14:30,...</td>\n",
       "      <td>10:00, 11:00, 12:00, 13:25, 14:25, 15:25, 16:2...</td>\n",
       "      <td>09:05, 10:05, 11:05, 12:30, 13:30, 14:30, 15:3...</td>\n",
       "      <td>10:00,  11:00,  12:00,  13:25,  14:25,  15:25,...</td>\n",
       "      <td>[{\"busstop\": \"City Civil Court\", \"latlons\": [\"...</td>\n",
       "    </tr>\n",
       "    <tr>\n",
       "      <th>4</th>\n",
       "      <td>FDR-1</td>\n",
       "      <td>19 KM</td>\n",
       "      <td>Vasanthapura</td>\n",
       "      <td>Vasanthapura</td>\n",
       "      <td>05:30,  06:05,  06:15,  06:40,  07:15,  07:25,...</td>\n",
       "      <td>06:35, 07:10, 07:20, 07:45, 08:20, 08:30, 08:4...</td>\n",
       "      <td>05:30, 06:05, 06:15, 06:40, 07:15, 07:25, 07:4...</td>\n",
       "      <td>06:35,  07:10,  07:20,  07:45,  08:20,  08:30,...</td>\n",
       "      <td>[{\"busstop\": \"Vasanthapura,VASANTHAPURA,IN FRO...</td>\n",
       "    </tr>\n",
       "  </tbody>\n",
       "</table>\n",
       "</div>"
      ],
      "text/plain": [
       "  route_no distance                origin  \\\n",
       "0        1  19.6 KM  Jayanagara 9th Block   \n",
       "1       1E  20.8 KM    JPNagara 6th Phase   \n",
       "2       1F  11.5 KM            BTM Layout   \n",
       "3    CCC-1  15.4 KM      City Civil Court   \n",
       "4    FDR-1    19 KM          Vasanthapura   \n",
       "\n",
       "                           destination  \\\n",
       "0  Yeshwanathapura new railway station   \n",
       "1       Chowdeshwari Bus Stand JP Park   \n",
       "2               Krishnarajendra Market   \n",
       "3                     City Civil Court   \n",
       "4                         Vasanthapura   \n",
       "\n",
       "                               departure_from_origin  \\\n",
       "0  07:35,  08:15,  08:55,  10:40,  11:20,  12:00,...   \n",
       "1                      07:20,  10:45,  17:30,  21:00   \n",
       "2      08:20,  10:10,  12:25,  14:15,  16:25,  18:10   \n",
       "3  09:05,  10:05,  11:05,  12:30,  13:30,  14:30,...   \n",
       "4  05:30,  06:05,  06:15,  06:40,  07:15,  07:25,...   \n",
       "\n",
       "                                   arrival_at_origin  \\\n",
       "0  10:10, 10:50, 11:55, 13:15, 13:55, 14:35, 15:5...   \n",
       "1                         07:15, 10:15, 17:00, 20:30   \n",
       "2           10:05, 12:20, 14:10, 15:55, 18:05, 19:55   \n",
       "3  10:00, 11:00, 12:00, 13:25, 14:25, 15:25, 16:2...   \n",
       "4  06:35, 07:10, 07:20, 07:45, 08:20, 08:30, 08:4...   \n",
       "\n",
       "                          departure_from_destination  \\\n",
       "0  08:55, 09:35, 10:40, 12:00, 12:40, 13:20, 14:4...   \n",
       "1                         05:30, 08:50, 15:35, 19:00   \n",
       "2           09:15, 11:30, 13:20, 15:10, 17:15, 19:05   \n",
       "3  09:05, 10:05, 11:05, 12:30, 13:30, 14:30, 15:3...   \n",
       "4  05:30, 06:05, 06:15, 06:40, 07:15, 07:25, 07:4...   \n",
       "\n",
       "                              arrival_at_destination  \\\n",
       "0  08:50,  09:30,  10:10,  11:55,  12:35,  13:15,...   \n",
       "1                      08:45,  12:20,  18:55,  22:25   \n",
       "2      09:10,  11:00,  13:15,  15:05,  17:10,  19:00   \n",
       "3  10:00,  11:00,  12:00,  13:25,  14:25,  15:25,...   \n",
       "4  06:35,  07:10,  07:20,  07:45,  08:20,  08:30,...   \n",
       "\n",
       "                                    map_json_content  \n",
       "0  [{\"busstop\": \"Jayanagara 9th Block,JAYANAGARA ...  \n",
       "1  [{\"busstop\": \"JPNagara 6th Phase,JP NAGARA 6TH...  \n",
       "2  [{\"busstop\": \"BTM Layout,BTM Layout 2nd Stage,...  \n",
       "3  [{\"busstop\": \"City Civil Court\", \"latlons\": [\"...  \n",
       "4  [{\"busstop\": \"Vasanthapura,VASANTHAPURA,IN FRO...  "
      ]
     },
     "execution_count": 3,
     "metadata": {},
     "output_type": "execute_result"
    }
   ],
   "source": [
    "df.head()"
   ]
  },
  {
   "cell_type": "code",
   "execution_count": null,
   "metadata": {},
   "outputs": [],
   "source": [
    "inputs = df[['origin','destination']]\n",
    "target = df['route_no'].astype(str)"
   ]
  },
  {
   "cell_type": "code",
   "execution_count": null,
   "metadata": {},
   "outputs": [],
   "source": [
    "df['departure_from_origin_n'] = df['departure_from_origin'].str.split(\",\",n=0,expand = False)\n",
    "df['departure_from_origin_n']\n",
    "route_timings = df['departure_from_origin_n']"
   ]
  },
  {
   "cell_type": "code",
   "execution_count": null,
   "metadata": {},
   "outputs": [],
   "source": [
    "from sklearn.preprocessing import LabelEncoder\n",
    "from sklearn.tree import DecisionTreeClassifier\n",
    "pd.options.mode.chained_assignment = None"
   ]
  },
  {
   "cell_type": "code",
   "execution_count": null,
   "metadata": {},
   "outputs": [
    {
     "data": {
      "text/html": [
       "<style>#sk-container-id-1 {color: black;}#sk-container-id-1 pre{padding: 0;}#sk-container-id-1 div.sk-toggleable {background-color: white;}#sk-container-id-1 label.sk-toggleable__label {cursor: pointer;display: block;width: 100%;margin-bottom: 0;padding: 0.3em;box-sizing: border-box;text-align: center;}#sk-container-id-1 label.sk-toggleable__label-arrow:before {content: \"▸\";float: left;margin-right: 0.25em;color: #696969;}#sk-container-id-1 label.sk-toggleable__label-arrow:hover:before {color: black;}#sk-container-id-1 div.sk-estimator:hover label.sk-toggleable__label-arrow:before {color: black;}#sk-container-id-1 div.sk-toggleable__content {max-height: 0;max-width: 0;overflow: hidden;text-align: left;background-color: #f0f8ff;}#sk-container-id-1 div.sk-toggleable__content pre {margin: 0.2em;color: black;border-radius: 0.25em;background-color: #f0f8ff;}#sk-container-id-1 input.sk-toggleable__control:checked~div.sk-toggleable__content {max-height: 200px;max-width: 100%;overflow: auto;}#sk-container-id-1 input.sk-toggleable__control:checked~label.sk-toggleable__label-arrow:before {content: \"▾\";}#sk-container-id-1 div.sk-estimator input.sk-toggleable__control:checked~label.sk-toggleable__label {background-color: #d4ebff;}#sk-container-id-1 div.sk-label input.sk-toggleable__control:checked~label.sk-toggleable__label {background-color: #d4ebff;}#sk-container-id-1 input.sk-hidden--visually {border: 0;clip: rect(1px 1px 1px 1px);clip: rect(1px, 1px, 1px, 1px);height: 1px;margin: -1px;overflow: hidden;padding: 0;position: absolute;width: 1px;}#sk-container-id-1 div.sk-estimator {font-family: monospace;background-color: #f0f8ff;border: 1px dotted black;border-radius: 0.25em;box-sizing: border-box;margin-bottom: 0.5em;}#sk-container-id-1 div.sk-estimator:hover {background-color: #d4ebff;}#sk-container-id-1 div.sk-parallel-item::after {content: \"\";width: 100%;border-bottom: 1px solid gray;flex-grow: 1;}#sk-container-id-1 div.sk-label:hover label.sk-toggleable__label {background-color: #d4ebff;}#sk-container-id-1 div.sk-serial::before {content: \"\";position: absolute;border-left: 1px solid gray;box-sizing: border-box;top: 0;bottom: 0;left: 50%;z-index: 0;}#sk-container-id-1 div.sk-serial {display: flex;flex-direction: column;align-items: center;background-color: white;padding-right: 0.2em;padding-left: 0.2em;position: relative;}#sk-container-id-1 div.sk-item {position: relative;z-index: 1;}#sk-container-id-1 div.sk-parallel {display: flex;align-items: stretch;justify-content: center;background-color: white;position: relative;}#sk-container-id-1 div.sk-item::before, #sk-container-id-1 div.sk-parallel-item::before {content: \"\";position: absolute;border-left: 1px solid gray;box-sizing: border-box;top: 0;bottom: 0;left: 50%;z-index: -1;}#sk-container-id-1 div.sk-parallel-item {display: flex;flex-direction: column;z-index: 1;position: relative;background-color: white;}#sk-container-id-1 div.sk-parallel-item:first-child::after {align-self: flex-end;width: 50%;}#sk-container-id-1 div.sk-parallel-item:last-child::after {align-self: flex-start;width: 50%;}#sk-container-id-1 div.sk-parallel-item:only-child::after {width: 0;}#sk-container-id-1 div.sk-dashed-wrapped {border: 1px dashed gray;margin: 0 0.4em 0.5em 0.4em;box-sizing: border-box;padding-bottom: 0.4em;background-color: white;}#sk-container-id-1 div.sk-label label {font-family: monospace;font-weight: bold;display: inline-block;line-height: 1.2em;}#sk-container-id-1 div.sk-label-container {text-align: center;}#sk-container-id-1 div.sk-container {/* jupyter's `normalize.less` sets `[hidden] { display: none; }` but bootstrap.min.css set `[hidden] { display: none !important; }` so we also need the `!important` here to be able to override the default hidden behavior on the sphinx rendered scikit-learn.org. See: https://github.com/scikit-learn/scikit-learn/issues/21755 */display: inline-block !important;position: relative;}#sk-container-id-1 div.sk-text-repr-fallback {display: none;}</style><div id=\"sk-container-id-1\" class=\"sk-top-container\"><div class=\"sk-text-repr-fallback\"><pre>DecisionTreeClassifier()</pre><b>In a Jupyter environment, please rerun this cell to show the HTML representation or trust the notebook. <br />On GitHub, the HTML representation is unable to render, please try loading this page with nbviewer.org.</b></div><div class=\"sk-container\" hidden><div class=\"sk-item\"><div class=\"sk-estimator sk-toggleable\"><input class=\"sk-toggleable__control sk-hidden--visually\" id=\"sk-estimator-id-1\" type=\"checkbox\" checked><label for=\"sk-estimator-id-1\" class=\"sk-toggleable__label sk-toggleable__label-arrow\">DecisionTreeClassifier</label><div class=\"sk-toggleable__content\"><pre>DecisionTreeClassifier()</pre></div></div></div></div></div>"
      ],
      "text/plain": [
       "DecisionTreeClassifier()"
      ]
     },
     "execution_count": 7,
     "metadata": {},
     "output_type": "execute_result"
    }
   ],
   "source": [
    "encoded_inputs = pd.DataFrame()\n",
    "\n",
    "# Encode input variables\n",
    "label_encoders = {}\n",
    "for column in inputs.columns:\n",
    "    le = LabelEncoder()\n",
    "    encoded_inputs[column] = le.fit_transform(inputs[column])\n",
    "    label_encoders[column] = le\n",
    "\n",
    "# Encode the target variable\n",
    "target_encoder = LabelEncoder()\n",
    "target_encoded = target_encoder.fit_transform(target)\n",
    "\n",
    "# Fit the model\n",
    "model = DecisionTreeClassifier()\n",
    "model.fit(encoded_inputs, target_encoded)"
   ]
  },
  {
   "cell_type": "code",
   "execution_count": null,
   "metadata": {},
   "outputs": [
    {
     "data": {
      "text/html": [
       "<div>\n",
       "<style scoped>\n",
       "    .dataframe tbody tr th:only-of-type {\n",
       "        vertical-align: middle;\n",
       "    }\n",
       "\n",
       "    .dataframe tbody tr th {\n",
       "        vertical-align: top;\n",
       "    }\n",
       "\n",
       "    .dataframe thead th {\n",
       "        text-align: right;\n",
       "    }\n",
       "</style>\n",
       "<table border=\"1\" class=\"dataframe\">\n",
       "  <thead>\n",
       "    <tr style=\"text-align: right;\">\n",
       "      <th></th>\n",
       "      <th>origin</th>\n",
       "      <th>destination</th>\n",
       "    </tr>\n",
       "  </thead>\n",
       "  <tbody>\n",
       "    <tr>\n",
       "      <th>0</th>\n",
       "      <td>236</td>\n",
       "      <td>781</td>\n",
       "    </tr>\n",
       "    <tr>\n",
       "      <th>1</th>\n",
       "      <td>222</td>\n",
       "      <td>167</td>\n",
       "    </tr>\n",
       "    <tr>\n",
       "      <th>2</th>\n",
       "      <td>49</td>\n",
       "      <td>455</td>\n",
       "    </tr>\n",
       "    <tr>\n",
       "      <th>3</th>\n",
       "      <td>127</td>\n",
       "      <td>172</td>\n",
       "    </tr>\n",
       "    <tr>\n",
       "      <th>4</th>\n",
       "      <td>486</td>\n",
       "      <td>744</td>\n",
       "    </tr>\n",
       "    <tr>\n",
       "      <th>...</th>\n",
       "      <td>...</td>\n",
       "      <td>...</td>\n",
       "    </tr>\n",
       "    <tr>\n",
       "      <th>2047</th>\n",
       "      <td>38</td>\n",
       "      <td>44</td>\n",
       "    </tr>\n",
       "    <tr>\n",
       "      <th>2048</th>\n",
       "      <td>319</td>\n",
       "      <td>139</td>\n",
       "    </tr>\n",
       "    <tr>\n",
       "      <th>2049</th>\n",
       "      <td>58</td>\n",
       "      <td>139</td>\n",
       "    </tr>\n",
       "    <tr>\n",
       "      <th>2050</th>\n",
       "      <td>38</td>\n",
       "      <td>28</td>\n",
       "    </tr>\n",
       "    <tr>\n",
       "      <th>2051</th>\n",
       "      <td>38</td>\n",
       "      <td>224</td>\n",
       "    </tr>\n",
       "  </tbody>\n",
       "</table>\n",
       "<p>2052 rows × 2 columns</p>\n",
       "</div>"
      ],
      "text/plain": [
       "      origin  destination\n",
       "0        236          781\n",
       "1        222          167\n",
       "2         49          455\n",
       "3        127          172\n",
       "4        486          744\n",
       "...      ...          ...\n",
       "2047      38           44\n",
       "2048     319          139\n",
       "2049      58          139\n",
       "2050      38           28\n",
       "2051      38          224\n",
       "\n",
       "[2052 rows x 2 columns]"
      ]
     },
     "execution_count": 8,
     "metadata": {},
     "output_type": "execute_result"
    }
   ],
   "source": [
    "encoded_inputs"
   ]
  },
  {
   "cell_type": "code",
   "execution_count": null,
   "metadata": {},
   "outputs": [
    {
     "data": {
      "text/plain": [
       "0.8810916179337231"
      ]
     },
     "execution_count": 9,
     "metadata": {},
     "output_type": "execute_result"
    }
   ],
   "source": [
    "model.score(encoded_inputs,target_encoded)"
   ]
  },
  {
   "cell_type": "code",
   "execution_count": null,
   "metadata": {},
   "outputs": [
    {
     "name": "stdout",
     "output_type": "stream",
     "text": [
      "The bus route you need to take: 1E\n"
     ]
    },
    {
     "name": "stderr",
     "output_type": "stream",
     "text": [
      "c:\\Users\\appra\\AppData\\Local\\Programs\\Python\\Python311\\Lib\\site-packages\\sklearn\\base.py:464: UserWarning: X does not have valid feature names, but DecisionTreeClassifier was fitted with feature names\n",
      "  warnings.warn(\n"
     ]
    }
   ],
   "source": [
    "#x = int(df[df['route_no']==str(model.predict([[49,455]])).strip(\"['']\")].index.values)\n",
    "# u_origin = \"JPNagara 6th Phase\"\n",
    "# u_destination = \"Chowdeshwari Bus Stand JP Park\"\n",
    "u_origin = input()\n",
    "u_destination = input()\n",
    "row_index_origin = df.index[df['origin'] == u_origin].to_list()\n",
    "row_index_destination = df.index[df['destination'] == u_destination].to_list()\n",
    "indi = [value for value in row_index_origin if value in row_index_destination]\n",
    "# x = encoded_inputs.origin[indi[0]]\n",
    "# y = encoded_inputs.destination[indi[0]]\n",
    "x = [encoded_inputs.origin[indi[0]],encoded_inputs.destination[indi[0]]]\n",
    "predicted_encoded = model.predict([[x[0], x[1]]])\n",
    "predicted_label = target_encoder.inverse_transform(predicted_encoded)[0]\n",
    "\n",
    "# Find the index in the original DataFrame\n",
    "index_value = df[df['route_no'] == predicted_label].index.values\n",
    "\n",
    "print(f\"The bus route you need to take: {predicted_label}\")\n",
    "# print(f\"Index value: {index_value}\")\n",
    "\n",
    "# # If you need to convert to an integer and there's only one value:\n",
    "# if len(index_value) == 1:\n",
    "#     x = int(index_value[0])\n",
    "#     print(f\"Index as integer: {x}\")\n",
    "# else:\n",
    "#     print(\"Multiple or no indices found.\")"
   ]
  },
  {
   "cell_type": "code",
   "execution_count": null,
   "metadata": {},
   "outputs": [],
   "source": [
    "time = input(\"Enter the time to check the availability of next bus in 24 hour format: \")"
   ]
  },
  {
   "cell_type": "code",
   "execution_count": null,
   "metadata": {},
   "outputs": [
    {
     "data": {
      "text/plain": [
       "0       [07:35,   08:15,   08:55,   10:40,   11:20,   ...\n",
       "1                      [07:20,   10:45,   17:30,   21:00]\n",
       "2       [08:20,   10:10,   12:25,   14:15,   16:25,   ...\n",
       "3       [09:05,   10:05,   11:05,   12:30,   13:30,   ...\n",
       "4       [05:30,   06:05,   06:15,   06:40,   07:15,   ...\n",
       "                              ...                        \n",
       "2047    [05:20,   05:30,   06:00,   08:00,   08:05,   ...\n",
       "2048                                     [09:55,   18:30]\n",
       "2049    [06:00,   06:25,   06:35,   07:05,   07:30,   ...\n",
       "2050    [05:45,   07:05,   07:35,   08:00,   08:35,   ...\n",
       "2051    [05:30,   05:50,   06:10,   06:30,   07:05,   ...\n",
       "Name: departure_from_origin_n, Length: 2052, dtype: object"
      ]
     },
     "execution_count": 12,
     "metadata": {},
     "output_type": "execute_result"
    }
   ],
   "source": [
    "route_timings"
   ]
  },
  {
   "cell_type": "code",
   "execution_count": null,
   "metadata": {},
   "outputs": [],
   "source": [
    "def availability(lst):\n",
    "    t = \"\"\n",
    "    global waiting_time\n",
    "    for s in lst:\n",
    "        s = s.strip()\n",
    "        available_time = int(s[:s.find(':')])*60 + int(s[s.find(':')+1:])\n",
    "        required_time = int(time[:time.find(':')])*60 + int(time[time.find(':')+1:])\n",
    "        remaining_time = available_time - required_time\n",
    "        if remaining_time < waiting_time and remaining_time > 0:\n",
    "            waiting_time = remaining_time\n",
    "    return waiting_time"
   ]
  },
  {
   "cell_type": "code",
   "execution_count": null,
   "metadata": {},
   "outputs": [
    {
     "name": "stdout",
     "output_type": "stream",
     "text": [
      "01:55\n"
     ]
    }
   ],
   "source": [
    "def minutes_to_time(minutes):\n",
    "    hours = minutes // 60\n",
    "    mins = minutes % 60\n",
    "    return f\"{hours:02}:{mins:02}\"\n",
    "waiting_time = 1440\n",
    "ans = availability(route_timings[indi[0]])\n",
    "# Example usage\n",
    "time_in_24hr_format = minutes_to_time(ans)\n",
    "print(time_in_24hr_format)\n",
    "\n",
    "# if ans<60:\n",
    "#     print(\"The next BMTC bus will be available in\",ans,\"minutes at\",int(time[:time.find(':')]),\":\",int(time[time.find(':')+1:])+ans)\n",
    "# elif ans<120:\n",
    "#     print(\"The next BMTC bus will be available in 1 hour and\",ans%60,\"minutes at\",int(time[:time.find(':')])+1,\":\",int(time[time.find(\":\")+1:])+ans%60)\n",
    "# else:\n",
    "#     print(\"The next BMTC bus will be available in\",int(ans/60),\"hour and\",ans%60,\"minutes at\",int(time[:time.find(':')])+int(ans/60),\":\",int(time[time.find(':')+1:])+ans%60)"
   ]
  },
  {
   "cell_type": "code",
   "execution_count": null,
   "metadata": {},
   "outputs": [],
   "source": []
  }
 ],
 "metadata": {
  "kernelspec": {
   "display_name": "Python 3",
   "language": "python",
   "name": "python3"
  },
  "language_info": {
   "codemirror_mode": {
    "name": "ipython",
    "version": 3
   },
   "file_extension": ".py",
   "mimetype": "text/x-python",
   "name": "python",
   "nbconvert_exporter": "python",
   "pygments_lexer": "ipython3",
   "version": "3.9.6"
  }
 },
 "nbformat": 4,
 "nbformat_minor": 2
}
